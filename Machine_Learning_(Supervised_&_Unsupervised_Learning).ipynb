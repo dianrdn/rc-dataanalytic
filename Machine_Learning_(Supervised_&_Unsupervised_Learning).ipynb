{
  "nbformat": 4,
  "nbformat_minor": 0,
  "metadata": {
    "colab": {
      "name": "Machine Learning (Supervised & Unsupervised Learning).ipynb",
      "provenance": [],
      "collapsed_sections": [],
      "toc_visible": true,
      "include_colab_link": true
    },
    "kernelspec": {
      "display_name": "Python 3",
      "language": "python",
      "name": "python3"
    },
    "language_info": {
      "codemirror_mode": {
        "name": "ipython",
        "version": 3
      },
      "file_extension": ".py",
      "mimetype": "text/x-python",
      "name": "python",
      "nbconvert_exporter": "python",
      "pygments_lexer": "ipython3",
      "version": "3.6.3"
    }
  },
  "cells": [
    {
      "cell_type": "markdown",
      "metadata": {
        "id": "view-in-github",
        "colab_type": "text"
      },
      "source": [
        "<a href=\"https://colab.research.google.com/github/dianrdn/rc-dataanalytic/blob/master/Machine_Learning_(Supervised_%26_Unsupervised_Learning).ipynb\" target=\"_parent\"><img src=\"https://colab.research.google.com/assets/colab-badge.svg\" alt=\"Open In Colab\"/></a>"
      ]
    },
    {
      "cell_type": "markdown",
      "metadata": {
        "colab_type": "text",
        "id": "FurDMcm_yvfA"
      },
      "source": [
        "*Hands-on of Data Driven Decision Making Training - 23 September 2019 - PUSDIKLAT Keuangan Umum, Pancoran*\n",
        "\n",
        "\n",
        "---\n",
        "\n"
      ]
    },
    {
      "cell_type": "markdown",
      "metadata": {
        "id": "8Y64-VX3WSZ8",
        "colab_type": "text"
      },
      "source": [
        "# 1. Supervised Learning"
      ]
    },
    {
      "cell_type": "markdown",
      "metadata": {
        "id": "HLW2pOyWptqh",
        "colab_type": "text"
      },
      "source": [
        "Sub topics covered in this practice:\n",
        "* Regression\n",
        "* Classification\n",
        "* Association Rule"
      ]
    },
    {
      "cell_type": "markdown",
      "metadata": {
        "id": "COHOuO-aicds",
        "colab_type": "text"
      },
      "source": [
        "## a. Regression\n",
        "Regression analysis is a basic method used in statistical analysis of data. It’s a statistical method which allows estimating the relationships among variables. One needs to identify dependent variable which will vary based on the value of the independent variable."
      ]
    },
    {
      "cell_type": "markdown",
      "metadata": {
        "id": "QSP92y6nj-j-",
        "colab_type": "text"
      },
      "source": [
        "### Linear Regression\n",
        "linear regression is a linear approach to modeling the relationship between a scalar response (or dependent variable) and one or more explanatory variables (or independent variables). [Wikipedia](https://en.wikipedia.org/wiki/Linear_regression)"
      ]
    },
    {
      "cell_type": "code",
      "metadata": {
        "id": "pG8XEQ81kZ-G",
        "colab_type": "code",
        "colab": {}
      },
      "source": [
        "# Import library\n",
        "import pandas as pd"
      ],
      "execution_count": 0,
      "outputs": []
    },
    {
      "cell_type": "code",
      "metadata": {
        "id": "O8nhTOlJkbJJ",
        "colab_type": "code",
        "colab": {}
      },
      "source": [
        "# Import Dataset\n",
        "salary_df = pd.read_csv('https://raw.githubusercontent.com/dianrdn/rc-dataanalytic/master/dataset/Salary_Data.csv')"
      ],
      "execution_count": 0,
      "outputs": []
    },
    {
      "cell_type": "code",
      "metadata": {
        "id": "BVdKdyCSkeha",
        "colab_type": "code",
        "colab": {
          "base_uri": "https://localhost:8080/",
          "height": 136
        },
        "outputId": "b71b5742-1419-47fe-d076-122107a93dfa"
      },
      "source": [
        "# Prints the Dataset Information\n",
        "salary_df.info()"
      ],
      "execution_count": 4,
      "outputs": [
        {
          "output_type": "stream",
          "text": [
            "<class 'pandas.core.frame.DataFrame'>\n",
            "RangeIndex: 30 entries, 0 to 29\n",
            "Data columns (total 2 columns):\n",
            "YearsExperience    30 non-null float64\n",
            "Salary             30 non-null float64\n",
            "dtypes: float64(2)\n",
            "memory usage: 560.0 bytes\n"
          ],
          "name": "stdout"
        }
      ]
    },
    {
      "cell_type": "code",
      "metadata": {
        "id": "JV7wg7DtkiQr",
        "colab_type": "code",
        "colab": {}
      },
      "source": [
        "# Prints 10 first Row\n",
        "salary_df.head(30)"
      ],
      "execution_count": 0,
      "outputs": []
    },
    {
      "cell_type": "code",
      "metadata": {
        "id": "1fmuLjD-kt3X",
        "colab_type": "code",
        "colab": {}
      },
      "source": [
        "# Prints descriptive statistics that summarize the central tendency, dispersion and shape of a dataset’s distribution\n",
        "salary_df.describe().transpose()"
      ],
      "execution_count": 0,
      "outputs": []
    },
    {
      "cell_type": "code",
      "metadata": {
        "id": "Exic04XfkwyZ",
        "colab_type": "code",
        "colab": {}
      },
      "source": [
        "# Import Library to Visualize the Data\n",
        "import seaborn as sns\n",
        "import matplotlib.pyplot as plt\n",
        "import warnings\n",
        "warnings.filterwarnings('ignore')\n",
        "%matplotlib inline\n",
        "\n",
        "\n",
        "plt.rcParams['figure.figsize'] = (7, 7)\n",
        "plt.style.use('ggplot')\n",
        "\n",
        "# Show the Distribuion\n",
        "sns.scatterplot(x=\"YearsExperience\", y=\"Salary\", data= salary_df)\n"
      ],
      "execution_count": 0,
      "outputs": []
    },
    {
      "cell_type": "code",
      "metadata": {
        "id": "8xgX9Jkfk4AT",
        "colab_type": "code",
        "colab": {}
      },
      "source": [
        "# Select X and Y Variable\n",
        "X = salary_df.iloc[:, :-1].values\n",
        "Y = salary_df.iloc[:, 1].values"
      ],
      "execution_count": 0,
      "outputs": []
    },
    {
      "cell_type": "code",
      "metadata": {
        "id": "w2yQk0gHk7hK",
        "colab_type": "code",
        "colab": {}
      },
      "source": [
        "# Modelling\n",
        "from sklearn.linear_model import LinearRegression\n",
        "\n",
        "lr = LinearRegression()\n",
        "lr.fit(X, Y)"
      ],
      "execution_count": 0,
      "outputs": []
    },
    {
      "cell_type": "code",
      "metadata": {
        "id": "RhzxP266XKc9",
        "colab_type": "code",
        "colab": {}
      },
      "source": [
        "# Show Coefficent and Intercept\n",
        "print('Coefficient = ', lr.coef_)\n",
        "print('Intercept =', lr.intercept_)"
      ],
      "execution_count": 0,
      "outputs": []
    },
    {
      "cell_type": "code",
      "metadata": {
        "id": "iMDU36QNwJoh",
        "colab_type": "code",
        "colab": {}
      },
      "source": [
        "plt.scatter(X, Y)\n",
        "plt.plot(X, lr.predict(X), color = \"green\")\n",
        "plt.title(\"Salary vs Experience\")\n",
        "plt.xlabel(\"Years of Experience\")\n",
        "plt.ylabel(\"Salary\")\n",
        "plt.show()"
      ],
      "execution_count": 0,
      "outputs": []
    },
    {
      "cell_type": "markdown",
      "metadata": {
        "colab_type": "text",
        "id": "fBxmrdbyf-MZ"
      },
      "source": [
        "## b. Classification"
      ]
    },
    {
      "cell_type": "code",
      "metadata": {
        "colab_type": "code",
        "id": "pa0blw2s6G7X",
        "colab": {
          "base_uri": "https://localhost:8080/",
          "height": 241
        },
        "outputId": "3eeb4d03-b754-4d0f-95be-f0a0ce3fe61d"
      },
      "source": [
        "# Import Library\n",
        "import pandas as pd\n",
        "\n",
        "#Import the files to Google Colab\n",
        "url = 'https://raw.githubusercontent.com/dianrdn/rc-dataanalytic/master/dataset/churn_trasnsformed_new.csv'\n",
        "df_csv = pd.read_csv(url, sep=',')\n",
        "\n",
        "# Show 10 first Row\n",
        "df_csv.head()"
      ],
      "execution_count": 8,
      "outputs": [
        {
          "output_type": "execute_result",
          "data": {
            "text/html": [
              "<div>\n",
              "<style scoped>\n",
              "    .dataframe tbody tr th:only-of-type {\n",
              "        vertical-align: middle;\n",
              "    }\n",
              "\n",
              "    .dataframe tbody tr th {\n",
              "        vertical-align: top;\n",
              "    }\n",
              "\n",
              "    .dataframe thead th {\n",
              "        text-align: right;\n",
              "    }\n",
              "</style>\n",
              "<table border=\"1\" class=\"dataframe\">\n",
              "  <thead>\n",
              "    <tr style=\"text-align: right;\">\n",
              "      <th></th>\n",
              "      <th>Unnamed: 0</th>\n",
              "      <th>gender_0</th>\n",
              "      <th>gender_1</th>\n",
              "      <th>SeniorCitizen_0</th>\n",
              "      <th>SeniorCitizen_1</th>\n",
              "      <th>Partner_0</th>\n",
              "      <th>Partner_1</th>\n",
              "      <th>Dependents_0</th>\n",
              "      <th>Dependents_1</th>\n",
              "      <th>tenure</th>\n",
              "      <th>PhoneService_0</th>\n",
              "      <th>PhoneService_1</th>\n",
              "      <th>MultipleLines_0</th>\n",
              "      <th>MultipleLines_1</th>\n",
              "      <th>MultipleLines_2</th>\n",
              "      <th>InternetService_0</th>\n",
              "      <th>InternetService_1</th>\n",
              "      <th>InternetService_2</th>\n",
              "      <th>OnlineSecurity_0</th>\n",
              "      <th>OnlineSecurity_1</th>\n",
              "      <th>OnlineSecurity_2</th>\n",
              "      <th>OnlineBackup_0</th>\n",
              "      <th>OnlineBackup_1</th>\n",
              "      <th>OnlineBackup_2</th>\n",
              "      <th>DeviceProtection_0</th>\n",
              "      <th>DeviceProtection_1</th>\n",
              "      <th>DeviceProtection_2</th>\n",
              "      <th>TechSupport_0</th>\n",
              "      <th>TechSupport_1</th>\n",
              "      <th>TechSupport_2</th>\n",
              "      <th>StreamingTV_0</th>\n",
              "      <th>StreamingTV_1</th>\n",
              "      <th>StreamingTV_2</th>\n",
              "      <th>StreamingMovies_0</th>\n",
              "      <th>StreamingMovies_1</th>\n",
              "      <th>StreamingMovies_2</th>\n",
              "      <th>Contract_0</th>\n",
              "      <th>Contract_1</th>\n",
              "      <th>Contract_2</th>\n",
              "      <th>PaperlessBilling_0</th>\n",
              "      <th>PaperlessBilling_1</th>\n",
              "      <th>PaymentMethod_0</th>\n",
              "      <th>PaymentMethod_1</th>\n",
              "      <th>PaymentMethod_2</th>\n",
              "      <th>MonthlyCharges</th>\n",
              "      <th>TotalCharges</th>\n",
              "      <th>Churn</th>\n",
              "    </tr>\n",
              "  </thead>\n",
              "  <tbody>\n",
              "    <tr>\n",
              "      <th>0</th>\n",
              "      <td>0</td>\n",
              "      <td>0</td>\n",
              "      <td>1</td>\n",
              "      <td>0</td>\n",
              "      <td>1</td>\n",
              "      <td>0</td>\n",
              "      <td>1</td>\n",
              "      <td>0</td>\n",
              "      <td>1</td>\n",
              "      <td>1</td>\n",
              "      <td>0</td>\n",
              "      <td>1</td>\n",
              "      <td>0</td>\n",
              "      <td>0</td>\n",
              "      <td>1</td>\n",
              "      <td>0</td>\n",
              "      <td>0</td>\n",
              "      <td>1</td>\n",
              "      <td>0</td>\n",
              "      <td>0</td>\n",
              "      <td>1</td>\n",
              "      <td>0</td>\n",
              "      <td>0</td>\n",
              "      <td>1</td>\n",
              "      <td>0</td>\n",
              "      <td>0</td>\n",
              "      <td>1</td>\n",
              "      <td>0</td>\n",
              "      <td>0</td>\n",
              "      <td>1</td>\n",
              "      <td>0</td>\n",
              "      <td>0</td>\n",
              "      <td>1</td>\n",
              "      <td>0</td>\n",
              "      <td>0</td>\n",
              "      <td>1</td>\n",
              "      <td>0</td>\n",
              "      <td>0</td>\n",
              "      <td>1</td>\n",
              "      <td>0</td>\n",
              "      <td>1</td>\n",
              "      <td>0</td>\n",
              "      <td>0</td>\n",
              "      <td>1</td>\n",
              "      <td>2985</td>\n",
              "      <td>2985.0</td>\n",
              "      <td>0</td>\n",
              "    </tr>\n",
              "    <tr>\n",
              "      <th>1</th>\n",
              "      <td>1</td>\n",
              "      <td>1</td>\n",
              "      <td>0</td>\n",
              "      <td>0</td>\n",
              "      <td>1</td>\n",
              "      <td>1</td>\n",
              "      <td>0</td>\n",
              "      <td>0</td>\n",
              "      <td>1</td>\n",
              "      <td>34</td>\n",
              "      <td>1</td>\n",
              "      <td>0</td>\n",
              "      <td>0</td>\n",
              "      <td>1</td>\n",
              "      <td>0</td>\n",
              "      <td>0</td>\n",
              "      <td>0</td>\n",
              "      <td>1</td>\n",
              "      <td>0</td>\n",
              "      <td>1</td>\n",
              "      <td>0</td>\n",
              "      <td>0</td>\n",
              "      <td>1</td>\n",
              "      <td>0</td>\n",
              "      <td>0</td>\n",
              "      <td>1</td>\n",
              "      <td>0</td>\n",
              "      <td>0</td>\n",
              "      <td>0</td>\n",
              "      <td>1</td>\n",
              "      <td>0</td>\n",
              "      <td>0</td>\n",
              "      <td>1</td>\n",
              "      <td>0</td>\n",
              "      <td>0</td>\n",
              "      <td>1</td>\n",
              "      <td>0</td>\n",
              "      <td>1</td>\n",
              "      <td>0</td>\n",
              "      <td>1</td>\n",
              "      <td>0</td>\n",
              "      <td>0</td>\n",
              "      <td>1</td>\n",
              "      <td>0</td>\n",
              "      <td>5695</td>\n",
              "      <td>18895.0</td>\n",
              "      <td>0</td>\n",
              "    </tr>\n",
              "    <tr>\n",
              "      <th>2</th>\n",
              "      <td>2</td>\n",
              "      <td>1</td>\n",
              "      <td>0</td>\n",
              "      <td>0</td>\n",
              "      <td>1</td>\n",
              "      <td>1</td>\n",
              "      <td>0</td>\n",
              "      <td>0</td>\n",
              "      <td>1</td>\n",
              "      <td>2</td>\n",
              "      <td>1</td>\n",
              "      <td>0</td>\n",
              "      <td>0</td>\n",
              "      <td>1</td>\n",
              "      <td>0</td>\n",
              "      <td>0</td>\n",
              "      <td>0</td>\n",
              "      <td>1</td>\n",
              "      <td>0</td>\n",
              "      <td>1</td>\n",
              "      <td>0</td>\n",
              "      <td>0</td>\n",
              "      <td>0</td>\n",
              "      <td>1</td>\n",
              "      <td>0</td>\n",
              "      <td>0</td>\n",
              "      <td>1</td>\n",
              "      <td>0</td>\n",
              "      <td>0</td>\n",
              "      <td>1</td>\n",
              "      <td>0</td>\n",
              "      <td>0</td>\n",
              "      <td>1</td>\n",
              "      <td>0</td>\n",
              "      <td>0</td>\n",
              "      <td>1</td>\n",
              "      <td>0</td>\n",
              "      <td>0</td>\n",
              "      <td>1</td>\n",
              "      <td>0</td>\n",
              "      <td>1</td>\n",
              "      <td>0</td>\n",
              "      <td>1</td>\n",
              "      <td>0</td>\n",
              "      <td>5385</td>\n",
              "      <td>10815.0</td>\n",
              "      <td>1</td>\n",
              "    </tr>\n",
              "    <tr>\n",
              "      <th>3</th>\n",
              "      <td>3</td>\n",
              "      <td>1</td>\n",
              "      <td>0</td>\n",
              "      <td>0</td>\n",
              "      <td>1</td>\n",
              "      <td>1</td>\n",
              "      <td>0</td>\n",
              "      <td>0</td>\n",
              "      <td>1</td>\n",
              "      <td>45</td>\n",
              "      <td>0</td>\n",
              "      <td>1</td>\n",
              "      <td>0</td>\n",
              "      <td>0</td>\n",
              "      <td>1</td>\n",
              "      <td>0</td>\n",
              "      <td>0</td>\n",
              "      <td>1</td>\n",
              "      <td>0</td>\n",
              "      <td>1</td>\n",
              "      <td>0</td>\n",
              "      <td>0</td>\n",
              "      <td>1</td>\n",
              "      <td>0</td>\n",
              "      <td>0</td>\n",
              "      <td>1</td>\n",
              "      <td>0</td>\n",
              "      <td>0</td>\n",
              "      <td>1</td>\n",
              "      <td>0</td>\n",
              "      <td>0</td>\n",
              "      <td>0</td>\n",
              "      <td>1</td>\n",
              "      <td>0</td>\n",
              "      <td>0</td>\n",
              "      <td>1</td>\n",
              "      <td>0</td>\n",
              "      <td>1</td>\n",
              "      <td>0</td>\n",
              "      <td>1</td>\n",
              "      <td>0</td>\n",
              "      <td>0</td>\n",
              "      <td>1</td>\n",
              "      <td>1</td>\n",
              "      <td>423</td>\n",
              "      <td>184075.0</td>\n",
              "      <td>0</td>\n",
              "    </tr>\n",
              "    <tr>\n",
              "      <th>4</th>\n",
              "      <td>4</td>\n",
              "      <td>0</td>\n",
              "      <td>1</td>\n",
              "      <td>0</td>\n",
              "      <td>1</td>\n",
              "      <td>1</td>\n",
              "      <td>0</td>\n",
              "      <td>0</td>\n",
              "      <td>1</td>\n",
              "      <td>2</td>\n",
              "      <td>1</td>\n",
              "      <td>0</td>\n",
              "      <td>0</td>\n",
              "      <td>1</td>\n",
              "      <td>0</td>\n",
              "      <td>0</td>\n",
              "      <td>1</td>\n",
              "      <td>0</td>\n",
              "      <td>0</td>\n",
              "      <td>0</td>\n",
              "      <td>1</td>\n",
              "      <td>0</td>\n",
              "      <td>1</td>\n",
              "      <td>0</td>\n",
              "      <td>0</td>\n",
              "      <td>0</td>\n",
              "      <td>1</td>\n",
              "      <td>0</td>\n",
              "      <td>0</td>\n",
              "      <td>1</td>\n",
              "      <td>0</td>\n",
              "      <td>0</td>\n",
              "      <td>1</td>\n",
              "      <td>0</td>\n",
              "      <td>0</td>\n",
              "      <td>1</td>\n",
              "      <td>0</td>\n",
              "      <td>0</td>\n",
              "      <td>1</td>\n",
              "      <td>0</td>\n",
              "      <td>1</td>\n",
              "      <td>0</td>\n",
              "      <td>0</td>\n",
              "      <td>1</td>\n",
              "      <td>707</td>\n",
              "      <td>15165.0</td>\n",
              "      <td>1</td>\n",
              "    </tr>\n",
              "  </tbody>\n",
              "</table>\n",
              "</div>"
            ],
            "text/plain": [
              "   Unnamed: 0  gender_0  gender_1  ...  MonthlyCharges  TotalCharges  Churn\n",
              "0           0         0         1  ...            2985        2985.0      0\n",
              "1           1         1         0  ...            5695       18895.0      0\n",
              "2           2         1         0  ...            5385       10815.0      1\n",
              "3           3         1         0  ...             423      184075.0      0\n",
              "4           4         0         1  ...             707       15165.0      1\n",
              "\n",
              "[5 rows x 47 columns]"
            ]
          },
          "metadata": {
            "tags": []
          },
          "execution_count": 8
        }
      ]
    },
    {
      "cell_type": "code",
      "metadata": {
        "id": "0bp6bfnpxFdt",
        "colab_type": "code",
        "colab": {}
      },
      "source": [
        "# Remove \"Unnamed:O\" Coloumn\n",
        "df = df_csv.drop(\"Unnamed: 0\", axis=1)\n",
        "df.head()"
      ],
      "execution_count": 0,
      "outputs": []
    },
    {
      "cell_type": "code",
      "metadata": {
        "id": "kGOqBrwfxGsG",
        "colab_type": "code",
        "colab": {}
      },
      "source": [
        "# Check the Data Infomation\n",
        "df.info()"
      ],
      "execution_count": 0,
      "outputs": []
    },
    {
      "cell_type": "code",
      "metadata": {
        "id": "K2_0S6nfn5oi",
        "colab_type": "code",
        "colab": {}
      },
      "source": [
        "#Import MinMax Scaler\n",
        "from sklearn.preprocessing import MinMaxScaler\n",
        "\n",
        "# initialize min-max scaler\n",
        "mm_scaler = MinMaxScaler()\n",
        "column_names = df.columns.tolist()\n",
        "column_names.remove('Churn')\n",
        "\n",
        "# Transform all attributes\n",
        "df[column_names] = mm_scaler.fit_transform(df[column_names])\n",
        "df.sort_index(inplace=True)\n",
        "df.head()"
      ],
      "execution_count": 0,
      "outputs": []
    },
    {
      "cell_type": "code",
      "metadata": {
        "id": "fvh9CgwTZq94",
        "colab_type": "code",
        "colab": {}
      },
      "source": [
        "# Selecting the Feature, by remove the unused feature \n",
        "feature = ['Churn', 'TotalCharges']\n",
        "train_feature = df.drop(feature, axis=1)\n",
        "\n",
        "# Set The Target\n",
        "train_target = df[\"Churn\"]"
      ],
      "execution_count": 0,
      "outputs": []
    },
    {
      "cell_type": "code",
      "metadata": {
        "id": "TTC0ofHVZto5",
        "colab_type": "code",
        "colab": {}
      },
      "source": [
        "# Show the Feature\n",
        "train_feature.head(5)"
      ],
      "execution_count": 0,
      "outputs": []
    },
    {
      "cell_type": "code",
      "metadata": {
        "id": "a2hR5kYUZwct",
        "colab_type": "code",
        "colab": {}
      },
      "source": [
        "# Split Data\n",
        "from sklearn.model_selection import train_test_split, cross_val_score\n",
        "X_train, X_test, y_train, y_test = train_test_split(train_feature ,train_target, shuffle = True, test_size=0.3, random_state=1)\n",
        "\n",
        "print(X_train.shape)\n",
        "print(X_test.shape)\n",
        "print(y_train.shape)\n",
        "print(y_test.shape)"
      ],
      "execution_count": 0,
      "outputs": []
    },
    {
      "cell_type": "code",
      "metadata": {
        "id": "iaXSTpltZwbH",
        "colab_type": "code",
        "colab": {}
      },
      "source": [
        "# Show the training data\n",
        "X_train.head()"
      ],
      "execution_count": 0,
      "outputs": []
    },
    {
      "cell_type": "markdown",
      "metadata": {
        "id": "XBpuFXsXxoOW",
        "colab_type": "text"
      },
      "source": [
        "#### Decision Tree"
      ]
    },
    {
      "cell_type": "markdown",
      "metadata": {
        "id": "jB0NTjxCZ3hw",
        "colab_type": "text"
      },
      "source": [
        "We use [Scikit Learn DecisionTreeClassifier](https://scikit-learn.org/stable/modules/generated/sklearn.tree.DecisionTreeClassifier.html) function. Below is the default parameter:\n",
        "\n",
        "\n",
        "`DecisionTreeClassifier(criterion=’gini’, splitter=’best’, max_depth=None, min_samples_split=2, min_samples_leaf=1, min_weight_fraction_leaf=0.0, max_features=None, random_state=None, max_leaf_nodes=None, min_impurity_decrease=0.0, min_impurity_split=None, class_weight=None, presort=False)`,\n",
        "\n",
        "An explanation of the decision tree can be seen here.[Medium: Decision Tree](https://medium.com/deep-math-machine-learning-ai/chapter-4-decision-trees-algorithms-b93975f7a1f1)"
      ]
    },
    {
      "cell_type": "code",
      "metadata": {
        "id": "T_97Grv1xHky",
        "colab_type": "code",
        "colab": {}
      },
      "source": [
        "# Import library\n",
        "from sklearn import tree\n",
        "\n",
        "# Train Decision Tree\n",
        "dtc = tree.DecisionTreeClassifier(min_impurity_decrease=0.01)\n",
        "dtc.fit(X_train, y_train)\n",
        "\n",
        "# Predict to Test Data \n",
        "y_preddtc = dtc.predict(X_test)"
      ],
      "execution_count": 0,
      "outputs": []
    },
    {
      "cell_type": "code",
      "metadata": {
        "id": "T4y7RstyxHeP",
        "colab_type": "code",
        "colab": {}
      },
      "source": [
        "# Plot the tree\n",
        "tree.plot_tree(dtc.fit(X_train, y_train), class_names=['0','1']) "
      ],
      "execution_count": 0,
      "outputs": []
    },
    {
      "cell_type": "code",
      "metadata": {
        "colab_type": "code",
        "id": "eAR9uYJCuP6o",
        "colab": {}
      },
      "source": [
        "# Visualize with graphviz\n",
        "\n",
        "from sklearn.externals.six import StringIO  \n",
        "from IPython.display import Image  \n",
        "from sklearn.tree import export_graphviz\n",
        "import pydotplus\n",
        "dot_data = StringIO()\n",
        "export_graphviz(dtc, out_file=dot_data,  \n",
        "                filled=True, rounded=True,\n",
        "                special_characters=True, class_names=['0','1'])\n",
        "graph = pydotplus.graph_from_dot_data(dot_data.getvalue())  \n",
        "Image(graph.create_png())"
      ],
      "execution_count": 0,
      "outputs": []
    },
    {
      "cell_type": "code",
      "metadata": {
        "id": "sYNobAynxOYC",
        "colab_type": "code",
        "colab": {}
      },
      "source": [
        "# Import the metrics class\n",
        "from sklearn import metrics\n",
        "\n",
        "# Show the Confussion Matrix\n",
        "cnf_matrixdtc = metrics.confusion_matrix(y_test, y_preddtc)\n",
        "cnf_matrixdtc"
      ],
      "execution_count": 0,
      "outputs": []
    },
    {
      "cell_type": "code",
      "metadata": {
        "id": "XzC3woEkaFhz",
        "colab_type": "code",
        "colab": {}
      },
      "source": [
        "# Show the Accuracy, Precision, Recall\n",
        "acc_dtc = metrics.accuracy_score(y_test, y_preddtc)\n",
        "prec_dtc = metrics.precision_score(y_test, y_preddtc)\n",
        "rec_dtc = metrics.recall_score(y_test, y_preddtc)\n",
        "f1_dtc = metrics.f1_score(y_test, y_preddtc)\n",
        "kappa_dtc = metrics.cohen_kappa_score(y_test, y_preddtc)\n",
        "\n",
        "print(\"Accuracy:\", acc_dtc )\n",
        "print(\"Precision:\", prec_dtc)\n",
        "print(\"Recall:\", rec_dtc)\n",
        "print(\"F1 Score:\", f1_dtc)\n",
        "print(\"Cohens Kappa Score:\", kappa_dtc)"
      ],
      "execution_count": 0,
      "outputs": []
    },
    {
      "cell_type": "code",
      "metadata": {
        "id": "5PC4OxlGaIpO",
        "colab_type": "code",
        "colab": {}
      },
      "source": [
        "# Cross-validation score\n",
        "cv_iterations = 5\n",
        "cv_score = cross_val_score(dtc, train_feature, train_target, cv=cv_iterations)\n",
        "print('Accuracy with cross-validation (split size = {}): {} (+/- {})'\n",
        "      .format(cv_iterations, round(cv_score.mean(),2), round(cv_score.std() * 2,2)))"
      ],
      "execution_count": 0,
      "outputs": []
    },
    {
      "cell_type": "code",
      "metadata": {
        "id": "RhkuuaY4d2Wb",
        "colab_type": "code",
        "colab": {}
      },
      "source": [
        "# Import Visualization Package\n",
        "import matplotlib.pyplot as plt\n",
        "import warnings\n",
        "warnings.filterwarnings('ignore')\n",
        "plt.rcParams['figure.figsize'] = (7, 7)\n",
        "plt.style.use('ggplot')\n",
        "\n",
        "# Visualize ROC Curve\n",
        "y_pred_probadtc = dtc.predict_proba(X_test)[::,1]\n",
        "fprdtc, tprdtc, _ = metrics.roc_curve(y_test,  y_pred_probadtc)\n",
        "aucdtc = metrics.roc_auc_score(y_test, y_pred_probadtc)\n",
        "plt.plot(fprdtc,tprdtc,label=\"Decision Tree, auc=\"+str(aucdtc))\n",
        "plt.legend(loc=4)\n",
        "plt.show()"
      ],
      "execution_count": 0,
      "outputs": []
    },
    {
      "cell_type": "markdown",
      "metadata": {
        "colab_type": "text",
        "id": "K4XxCpd-g5uY"
      },
      "source": [
        "#### K-Nearest Neighbor"
      ]
    },
    {
      "cell_type": "markdown",
      "metadata": {
        "id": "_5ytZIFmx08j",
        "colab_type": "text"
      },
      "source": [
        "We use Scikit Learn KNeighborsClassifier function. Here is the default parameter:\n",
        "\n",
        "`KNeighborsClassifier(n_neighbors=5, weights=’uniform’, algorithm=’auto’, leaf_size=30, p=2, metric=’minkowski’, metric_params=None, n_jobs=None, **kwargs)`\n",
        "\n",
        "A small value of k means that noise will have a higher influence on the result and a large value make it computationally expensive. Data scientists usually choose as an odd number if the number of classes is 2 and another simple approach to select k is set k=sqrt(n)."
      ]
    },
    {
      "cell_type": "code",
      "metadata": {
        "id": "oQUUa_kDxQ1o",
        "colab_type": "code",
        "colab": {}
      },
      "source": [
        "# Import library\n",
        "from sklearn.neighbors import KNeighborsClassifier\n",
        "\n",
        "# Create KNN Classifier\n",
        "knn = KNeighborsClassifier(n_neighbors= 75)\n",
        "knn.fit(X_train, y_train)\n",
        "\n",
        "# Predict to test data\n",
        "y_predknn = knn.predict(X_test)"
      ],
      "execution_count": 0,
      "outputs": []
    },
    {
      "cell_type": "code",
      "metadata": {
        "id": "XIpNkbW3xR4-",
        "colab_type": "code",
        "colab": {}
      },
      "source": [
        "# Show the Confussion Matrix\n",
        "cnf_matrixknn = metrics.confusion_matrix(y_test, y_predknn)\n",
        "cnf_matrixknn"
      ],
      "execution_count": 0,
      "outputs": []
    },
    {
      "cell_type": "code",
      "metadata": {
        "id": "iJZZJApKBjRK",
        "colab_type": "code",
        "colab": {}
      },
      "source": [
        "# Show the Accuracy, Precision, Recall\n",
        "acc_knn = metrics.accuracy_score(y_test, y_predknn)\n",
        "prec_knn = metrics.precision_score(y_test, y_predknn)\n",
        "rec_knn = metrics.recall_score(y_test, y_predknn)\n",
        "f1_knn = metrics.f1_score(y_test, y_predknn)\n",
        "kappa_knn = metrics.cohen_kappa_score(y_test, y_predknn)\n",
        "\n",
        "print(\"Accuracy:\", acc_knn)\n",
        "print(\"Precision:\", prec_knn)\n",
        "print(\"Recall:\", rec_knn)\n",
        "print(\"F1 Score:\", f1_knn)\n",
        "print(\"Cohens Kappa Score:\", kappa_knn)"
      ],
      "execution_count": 0,
      "outputs": []
    },
    {
      "cell_type": "code",
      "metadata": {
        "id": "VYn7aCFbxWnN",
        "colab_type": "code",
        "colab": {}
      },
      "source": [
        "# Cross-validation score\n",
        "cv_iterations = 10\n",
        "cv_score = cross_val_score(knn, train_feature, train_target, cv=cv_iterations)\n",
        "print('Accuracy with cross-validation (split size = {}): {} (+/- {})'\n",
        "      .format(cv_iterations, round(cv_score.mean(),2), round(cv_score.std() * 2,2)))"
      ],
      "execution_count": 0,
      "outputs": []
    },
    {
      "cell_type": "code",
      "metadata": {
        "id": "S2SnZntbBS5_",
        "colab_type": "code",
        "colab": {}
      },
      "source": [
        "# ROC Curve\n",
        "y_pred_probaknn = knn.predict_proba(X_test)[::,1]\n",
        "fprknn, tprknn, _ = metrics.roc_curve(y_test,  y_pred_probaknn)\n",
        "aucknn = metrics.roc_auc_score(y_test, y_pred_probaknn)\n",
        "plt.plot(fprknn,tprknn,label=\"K-NN, auc=\"+str(aucknn))\n",
        "plt.legend(loc=4)\n",
        "plt.show()"
      ],
      "execution_count": 0,
      "outputs": []
    },
    {
      "cell_type": "markdown",
      "metadata": {
        "colab_type": "text",
        "id": "YhW2slDFhDid"
      },
      "source": [
        "#### Naive Bayes"
      ]
    },
    {
      "cell_type": "markdown",
      "metadata": {
        "id": "nOtGq06Yx5m-",
        "colab_type": "text"
      },
      "source": [
        "We use Scikit Learn [GaussianNB](https://scikit-learn.org/stable/modules/generated/sklearn.naive_bayes.GaussianNB.html) function. Here is the default parameter:\n",
        "\n",
        "`class sklearn.naive_bayes.GaussianNB(priors=None, var_smoothing=1e-09`\n"
      ]
    },
    {
      "cell_type": "code",
      "metadata": {
        "id": "dhyV9oiBxYaR",
        "colab_type": "code",
        "colab": {}
      },
      "source": [
        "from sklearn.naive_bayes import GaussianNB \n",
        "\n",
        "# Train Naive Bayes Model\n",
        "gnb = GaussianNB()\n",
        "gnb.fit(X_train, y_train)\n",
        "y_predgnb= gnb.predict(X_test)"
      ],
      "execution_count": 0,
      "outputs": []
    },
    {
      "cell_type": "code",
      "metadata": {
        "id": "x5hK9_mKxaGy",
        "colab_type": "code",
        "colab": {}
      },
      "source": [
        "# Show the Confussion Matrix\n",
        "cnf_matrixgnb = metrics.confusion_matrix(y_test, y_predgnb)\n",
        "cnf_matrixgnb"
      ],
      "execution_count": 0,
      "outputs": []
    },
    {
      "cell_type": "code",
      "metadata": {
        "id": "ZUBWww1Wxb8E",
        "colab_type": "code",
        "colab": {}
      },
      "source": [
        "# Show the Accuracy, Precision, Recall\n",
        "acc_gnb = metrics.accuracy_score(y_test, y_predgnb)\n",
        "prec_gnb = metrics.precision_score(y_test, y_predgnb)\n",
        "rec_gnb = metrics.recall_score(y_test, y_predgnb)\n",
        "f1_gnb = metrics.f1_score(y_test, y_predgnb)\n",
        "kappa_gnb = metrics.cohen_kappa_score(y_test, y_predgnb)\n",
        "\n",
        "print(\"Accuracy:\", acc_gnb)\n",
        "print(\"Precision:\", prec_gnb)\n",
        "print(\"Recall:\", rec_gnb)\n",
        "print(\"F1 Score:\", f1_gnb)\n",
        "print(\"Cohens Kappa Score:\", kappa_gnb)"
      ],
      "execution_count": 0,
      "outputs": []
    },
    {
      "cell_type": "code",
      "metadata": {
        "id": "iZKLtnmnxda1",
        "colab_type": "code",
        "colab": {}
      },
      "source": [
        "# Cross-validation score\n",
        "cv_iterations = 10\n",
        "cv_score = cross_val_score(gnb, train_feature, train_target, cv=cv_iterations)\n",
        "print('Accuracy with cross-validation (split size = {}): {} (+/- {})'\n",
        "      .format(cv_iterations, round(cv_score.mean(),2), round(cv_score.std() * 2,2)))"
      ],
      "execution_count": 0,
      "outputs": []
    },
    {
      "cell_type": "code",
      "metadata": {
        "id": "QvjEOHVoeaKY",
        "colab_type": "code",
        "colab": {}
      },
      "source": [
        "# ROC Curve\n",
        "y_pred_probagnb = gnb.predict_proba(X_test)[::,1]\n",
        "fprgnb, tprgnb, _ = metrics.roc_curve(y_test,  y_pred_probagnb)\n",
        "aucgnb = metrics.roc_auc_score(y_test, y_pred_probagnb)\n",
        "plt.plot(fprgnb,tprgnb,label=\"Naive Bayes, auc=\"+str(aucgnb))\n",
        "plt.legend(loc=4)\n",
        "plt.show()"
      ],
      "execution_count": 0,
      "outputs": []
    },
    {
      "cell_type": "code",
      "metadata": {
        "id": "1Mbup_VsxfE3",
        "colab_type": "code",
        "colab": {}
      },
      "source": [
        "# Comparing Model Performance\n",
        "print(\"Decision Tree Accuracy =\",acc_dtc)\n",
        "print(\"Decision Tree Precision =\",prec_dtc)\n",
        "print(\"Decision Tree Recall =\",rec_dtc)\n",
        "print(\"Decision Tree F1-Score =\", f1_dtc)\n",
        "print(\"_______________________\")\n",
        "print(\"k-NN Accuracy =\", acc_knn)\n",
        "print(\"k-NN Precision =\", prec_knn)\n",
        "print(\"k-NN Recall =\", rec_knn)\n",
        "print(\"k-NN F1-Score =\", f1_knn)\n",
        "print(\"_______________________\")\n",
        "print(\"Naive Bayes Accuracy =\", acc_gnb)\n",
        "print(\"Naive Bayes Precision =\", prec_gnb)\n",
        "print(\"Naive Bayes Recall =\", rec_gnb)\n",
        "print(\"Naive Bayes F1-Score =\", f1_gnb)"
      ],
      "execution_count": 0,
      "outputs": []
    },
    {
      "cell_type": "code",
      "metadata": {
        "id": "o3vmPWKqagI6",
        "colab_type": "code",
        "colab": {}
      },
      "source": [
        "# Comparing ROC Curve\n",
        "plt.plot(fprdtc,tprdtc,label=\"Decision Tree, auc=\"+str(aucdtc))\n",
        "plt.plot(fprknn,tprknn,label=\"K-NN, auc=\"+str(aucknn))\n",
        "plt.plot(fprgnb,tprgnb,label=\"Naive Bayes, auc=\"+str(aucgnb))\n",
        "plt.legend(loc=4)\n",
        "plt.show()"
      ],
      "execution_count": 0,
      "outputs": []
    },
    {
      "cell_type": "markdown",
      "metadata": {
        "id": "dQjZvElYirsW",
        "colab_type": "text"
      },
      "source": [
        "## c. Association Rule"
      ]
    },
    {
      "cell_type": "code",
      "metadata": {
        "id": "As4V5rSyqFCW",
        "colab_type": "code",
        "colab": {}
      },
      "source": [
        "# Import Library\n",
        "import pandas as pd\n",
        "import numpy as np\n",
        "\n",
        "import seaborn as sns\n",
        "%matplotlib inline\n",
        "\n",
        "from mlxtend.frequent_patterns import apriori\n",
        "from mlxtend.frequent_patterns import association_rules"
      ],
      "execution_count": 0,
      "outputs": []
    },
    {
      "cell_type": "code",
      "metadata": {
        "id": "6Y6pF719qGqa",
        "colab_type": "code",
        "colab": {}
      },
      "source": [
        "# Import dataset\n",
        "retail_df = pd.read_excel(\"https://raw.githubusercontent.com/apriandito/bigdatacert/master/dataset/Online%20Retail.xlsx\")\n",
        "retail_df.head()"
      ],
      "execution_count": 0,
      "outputs": []
    },
    {
      "cell_type": "code",
      "metadata": {
        "id": "jdgt9bqpqIEP",
        "colab_type": "code",
        "colab": {}
      },
      "source": [
        "# Remove additional spaces\n",
        "retail_df['Description'] = retail_df['Description'].str.strip()\n",
        "\n",
        "# Remove NA values\n",
        "retail_df.dropna(axis=0, subset=['InvoiceNo'], inplace=True)\n",
        "\n",
        "# Remove cancelled orders\n",
        "retail_df['InvoiceNo'] = retail_df['InvoiceNo'].astype('str')\n",
        "retail_df = retail_df[~retail_df['InvoiceNo'].str.contains('C')]"
      ],
      "execution_count": 0,
      "outputs": []
    },
    {
      "cell_type": "code",
      "metadata": {
        "id": "u0954EQaqKI0",
        "colab_type": "code",
        "colab": {}
      },
      "source": [
        "# Create Encode Function\n",
        "def encode_units(x):\n",
        "    if x <= 0:\n",
        "        return 0\n",
        "    if x >= 1:\n",
        "        return 1\n",
        "\n",
        "def create_basket(country_filter):\n",
        "    basket = (retail_df[retail_df['Country'] == country_filter]\n",
        "          .groupby(['InvoiceNo', 'Description'])['Quantity']\n",
        "          .sum().unstack().reset_index().fillna(0)\n",
        "          .set_index('InvoiceNo'))\n",
        "    return basket"
      ],
      "execution_count": 0,
      "outputs": []
    },
    {
      "cell_type": "code",
      "metadata": {
        "id": "hzBQtyH8qLns",
        "colab_type": "code",
        "colab": {}
      },
      "source": [
        "country_filter = \"France\"\n",
        "basket_french = create_basket(\"France\")\n",
        "basket_sets = basket_french.applymap(encode_units)\n",
        "basket_sets.drop('POSTAGE', inplace=True, axis=1)"
      ],
      "execution_count": 0,
      "outputs": []
    },
    {
      "cell_type": "code",
      "metadata": {
        "id": "HF4trvtzqNAy",
        "colab_type": "code",
        "colab": {}
      },
      "source": [
        "frequent_itemsets = apriori(basket_sets, min_support=0.05, use_colnames=True)"
      ],
      "execution_count": 0,
      "outputs": []
    },
    {
      "cell_type": "code",
      "metadata": {
        "id": "TfkZqCz2qOXV",
        "colab_type": "code",
        "colab": {}
      },
      "source": [
        "# Generate Rules\n",
        "rules = association_rules(frequent_itemsets, metric=\"lift\", min_threshold=1.2)\n",
        "rules.head()"
      ],
      "execution_count": 0,
      "outputs": []
    },
    {
      "cell_type": "markdown",
      "metadata": {
        "colab_type": "text",
        "id": "teY2vbiAiJ9G"
      },
      "source": [
        "# 2. Unsupervised Learning"
      ]
    },
    {
      "cell_type": "markdown",
      "metadata": {
        "colab_type": "text",
        "id": "c66Rc0J_iSvE"
      },
      "source": [
        "Sub topics covered in this practice:\n",
        "* Clustering"
      ]
    },
    {
      "cell_type": "markdown",
      "metadata": {
        "id": "OkGom3b6iiy0",
        "colab_type": "text"
      },
      "source": [
        "### a. Clustering"
      ]
    },
    {
      "cell_type": "markdown",
      "metadata": {
        "id": "IrWXAyk7qQ4u",
        "colab_type": "text"
      },
      "source": [
        "#### K-Means Clustering"
      ]
    },
    {
      "cell_type": "code",
      "metadata": {
        "id": "CKs-IbKBpgcO",
        "colab_type": "code",
        "colab": {}
      },
      "source": [
        "# Import Library\n",
        "import numpy as np\n",
        "import pandas as pd\n",
        "import matplotlib.pyplot as plt\n",
        "\n",
        "#Plot styling\n",
        "import seaborn as sns; sns.set()  # for plot styling\n",
        "\n",
        "plt.rcParams['figure.figsize'] = (16, 9)\n",
        "plt.style.use('ggplot')"
      ],
      "execution_count": 0,
      "outputs": []
    },
    {
      "cell_type": "code",
      "metadata": {
        "id": "onw9MVUJphxP",
        "colab_type": "code",
        "colab": {}
      },
      "source": [
        "# Import Dataset\n",
        "dataset = pd.read_csv('https://raw.githubusercontent.com/dianrdn/rc-dataanalytic/master/dataset/human_development_index.csv')"
      ],
      "execution_count": 0,
      "outputs": []
    },
    {
      "cell_type": "code",
      "metadata": {
        "id": "VMXN_KDQpjIj",
        "colab_type": "code",
        "colab": {
          "base_uri": "https://localhost:8080/",
          "height": 359
        },
        "outputId": "c3f07dc3-f0c5-428e-e503-c79a15271b07"
      },
      "source": [
        "# Show 10 Rows of Dataset\n",
        "dataset.head(10)"
      ],
      "execution_count": 10,
      "outputs": [
        {
          "output_type": "execute_result",
          "data": {
            "text/html": [
              "<div>\n",
              "<style scoped>\n",
              "    .dataframe tbody tr th:only-of-type {\n",
              "        vertical-align: middle;\n",
              "    }\n",
              "\n",
              "    .dataframe tbody tr th {\n",
              "        vertical-align: top;\n",
              "    }\n",
              "\n",
              "    .dataframe thead th {\n",
              "        text-align: right;\n",
              "    }\n",
              "</style>\n",
              "<table border=\"1\" class=\"dataframe\">\n",
              "  <thead>\n",
              "    <tr style=\"text-align: right;\">\n",
              "      <th></th>\n",
              "      <th>KOTA</th>\n",
              "      <th>ID</th>\n",
              "      <th>HDI</th>\n",
              "      <th>REVENUE</th>\n",
              "    </tr>\n",
              "  </thead>\n",
              "  <tbody>\n",
              "    <tr>\n",
              "      <th>0</th>\n",
              "      <td>Ambon, Kota</td>\n",
              "      <td>IDN_Ambon_Kota_18139</td>\n",
              "      <td>79.58</td>\n",
              "      <td>8.486130e+11</td>\n",
              "    </tr>\n",
              "    <tr>\n",
              "      <th>1</th>\n",
              "      <td>Balikpapan, Kota</td>\n",
              "      <td>IDN_Balikpapan_Kota_18130</td>\n",
              "      <td>79.87</td>\n",
              "      <td>2.422210e+12</td>\n",
              "    </tr>\n",
              "    <tr>\n",
              "      <th>2</th>\n",
              "      <td>Banda Aceh, Kota</td>\n",
              "      <td>IDN_Banda_Aceh_Kota_73705</td>\n",
              "      <td>79.00</td>\n",
              "      <td>9.282410e+11</td>\n",
              "    </tr>\n",
              "    <tr>\n",
              "      <th>3</th>\n",
              "      <td>Bandar Lampung, Kota</td>\n",
              "      <td>IDN_Bandar_Lampung_Kota_18134</td>\n",
              "      <td>77.17</td>\n",
              "      <td>1.688410e+12</td>\n",
              "    </tr>\n",
              "    <tr>\n",
              "      <th>4</th>\n",
              "      <td>Bandung, Kota</td>\n",
              "      <td>IDN_Bandung_Kota_18015</td>\n",
              "      <td>77.32</td>\n",
              "      <td>4.332090e+12</td>\n",
              "    </tr>\n",
              "    <tr>\n",
              "      <th>5</th>\n",
              "      <td>Banjar, Kota</td>\n",
              "      <td>IDN_Banjar_Kota_73707</td>\n",
              "      <td>72.84</td>\n",
              "      <td>6.209170e+11</td>\n",
              "    </tr>\n",
              "    <tr>\n",
              "      <th>6</th>\n",
              "      <td>Banjarbaru, Kota</td>\n",
              "      <td>IDN_Banjarbaru_Kota_73706</td>\n",
              "      <td>76.86</td>\n",
              "      <td>7.475670e+11</td>\n",
              "    </tr>\n",
              "    <tr>\n",
              "      <th>7</th>\n",
              "      <td>Banjarmasin, Kota</td>\n",
              "      <td>IDN_Banjarmasin_Kota_18113</td>\n",
              "      <td>75.28</td>\n",
              "      <td>1.285110e+12</td>\n",
              "    </tr>\n",
              "    <tr>\n",
              "      <th>8</th>\n",
              "      <td>Batam, Kota</td>\n",
              "      <td>IDN_Batam_Kota_73708</td>\n",
              "      <td>78.73</td>\n",
              "      <td>1.749110e+12</td>\n",
              "    </tr>\n",
              "    <tr>\n",
              "      <th>9</th>\n",
              "      <td>Batu, Kota</td>\n",
              "      <td>IDN_Batu_Kota_73709</td>\n",
              "      <td>76.09</td>\n",
              "      <td>5.536180e+11</td>\n",
              "    </tr>\n",
              "  </tbody>\n",
              "</table>\n",
              "</div>"
            ],
            "text/plain": [
              "                   KOTA                             ID    HDI       REVENUE\n",
              "0           Ambon, Kota           IDN_Ambon_Kota_18139  79.58  8.486130e+11\n",
              "1      Balikpapan, Kota      IDN_Balikpapan_Kota_18130  79.87  2.422210e+12\n",
              "2      Banda Aceh, Kota      IDN_Banda_Aceh_Kota_73705  79.00  9.282410e+11\n",
              "3  Bandar Lampung, Kota  IDN_Bandar_Lampung_Kota_18134  77.17  1.688410e+12\n",
              "4         Bandung, Kota         IDN_Bandung_Kota_18015  77.32  4.332090e+12\n",
              "5          Banjar, Kota          IDN_Banjar_Kota_73707  72.84  6.209170e+11\n",
              "6      Banjarbaru, Kota      IDN_Banjarbaru_Kota_73706  76.86  7.475670e+11\n",
              "7     Banjarmasin, Kota     IDN_Banjarmasin_Kota_18113  75.28  1.285110e+12\n",
              "8           Batam, Kota           IDN_Batam_Kota_73708  78.73  1.749110e+12\n",
              "9            Batu, Kota            IDN_Batu_Kota_73709  76.09  5.536180e+11"
            ]
          },
          "metadata": {
            "tags": []
          },
          "execution_count": 10
        }
      ]
    },
    {
      "cell_type": "code",
      "metadata": {
        "id": "WfJaOYA1pln_",
        "colab_type": "code",
        "colab": {
          "base_uri": "https://localhost:8080/",
          "height": 34
        },
        "outputId": "88eae95b-fd9c-4d84-f8b5-e6b07d093e22"
      },
      "source": [
        "# Show lenght of Dataset\n",
        "len(dataset) "
      ],
      "execution_count": 11,
      "outputs": [
        {
          "output_type": "execute_result",
          "data": {
            "text/plain": [
              "468"
            ]
          },
          "metadata": {
            "tags": []
          },
          "execution_count": 11
        }
      ]
    },
    {
      "cell_type": "code",
      "metadata": {
        "id": "ItBsDQo6puwv",
        "colab_type": "code",
        "colab": {
          "base_uri": "https://localhost:8080/",
          "height": 111
        },
        "outputId": "2e8c36e3-f4e3-4e0b-c755-b10ed3e23a14"
      },
      "source": [
        "# Statistics Descriptive\n",
        "dataset.describe().transpose()"
      ],
      "execution_count": 12,
      "outputs": [
        {
          "output_type": "execute_result",
          "data": {
            "text/html": [
              "<div>\n",
              "<style scoped>\n",
              "    .dataframe tbody tr th:only-of-type {\n",
              "        vertical-align: middle;\n",
              "    }\n",
              "\n",
              "    .dataframe tbody tr th {\n",
              "        vertical-align: top;\n",
              "    }\n",
              "\n",
              "    .dataframe thead th {\n",
              "        text-align: right;\n",
              "    }\n",
              "</style>\n",
              "<table border=\"1\" class=\"dataframe\">\n",
              "  <thead>\n",
              "    <tr style=\"text-align: right;\">\n",
              "      <th></th>\n",
              "      <th>count</th>\n",
              "      <th>mean</th>\n",
              "      <th>std</th>\n",
              "      <th>min</th>\n",
              "      <th>25%</th>\n",
              "      <th>50%</th>\n",
              "      <th>75%</th>\n",
              "      <th>max</th>\n",
              "    </tr>\n",
              "  </thead>\n",
              "  <tbody>\n",
              "    <tr>\n",
              "      <th>HDI</th>\n",
              "      <td>468.0</td>\n",
              "      <td>7.223030e+01</td>\n",
              "      <td>4.916730e+00</td>\n",
              "      <td>4.929000e+01</td>\n",
              "      <td>7.028750e+01</td>\n",
              "      <td>7.267500e+01</td>\n",
              "      <td>7.505500e+01</td>\n",
              "      <td>8.051000e+01</td>\n",
              "    </tr>\n",
              "    <tr>\n",
              "      <th>REVENUE</th>\n",
              "      <td>468.0</td>\n",
              "      <td>1.061428e+12</td>\n",
              "      <td>6.911188e+11</td>\n",
              "      <td>5.011239e+09</td>\n",
              "      <td>6.228678e+11</td>\n",
              "      <td>8.535830e+11</td>\n",
              "      <td>1.330855e+12</td>\n",
              "      <td>5.950670e+12</td>\n",
              "    </tr>\n",
              "  </tbody>\n",
              "</table>\n",
              "</div>"
            ],
            "text/plain": [
              "         count          mean  ...           75%           max\n",
              "HDI      468.0  7.223030e+01  ...  7.505500e+01  8.051000e+01\n",
              "REVENUE  468.0  1.061428e+12  ...  1.330855e+12  5.950670e+12\n",
              "\n",
              "[2 rows x 8 columns]"
            ]
          },
          "metadata": {
            "tags": []
          },
          "execution_count": 12
        }
      ]
    },
    {
      "cell_type": "code",
      "metadata": {
        "id": "ZPtgRNJApyKX",
        "colab_type": "code",
        "colab": {
          "base_uri": "https://localhost:8080/",
          "height": 588
        },
        "outputId": "a161711d-c9b5-475d-922e-e1a04af55890"
      },
      "source": [
        "# Plotting the values to understand the spread\n",
        "hdi = dataset['HDI'].values\n",
        "revenue = dataset['REVENUE'].values\n",
        "X = np.array(list(zip(hdi, revenue)))\n",
        "plt.scatter(hdi, revenue, s=100)"
      ],
      "execution_count": 19,
      "outputs": [
        {
          "output_type": "execute_result",
          "data": {
            "text/plain": [
              "<matplotlib.collections.PathCollection at 0x7f3e8b77a390>"
            ]
          },
          "metadata": {
            "tags": []
          },
          "execution_count": 19
        },
        {
          "output_type": "display_data",
          "data": {
            "image/png": "[encoded data removed]",
            "text/plain": [
              "<Figure size 1152x648 with 1 Axes>"
            ]
          },
          "metadata": {
            "tags": []
          }
        }
      ]
    },
    {
      "cell_type": "code",
      "metadata": {
        "id": "61IHqkSipzfT",
        "colab_type": "code",
        "colab": {
          "base_uri": "https://localhost:8080/",
          "height": 594
        },
        "outputId": "0a59bf54-96e9-49c0-e262-e7b93bbe7768"
      },
      "source": [
        "#Elbow\n",
        "from sklearn.cluster import KMeans\n",
        "wcss = []\n",
        "for i in range(1,11):\n",
        "    km=KMeans(n_clusters=i,init='k-means++', max_iter=300, n_init=10, random_state=0)\n",
        "    km.fit(X)\n",
        "    wcss.append(km.inertia_)\n",
        "plt.plot(range(1,11),wcss)\n",
        "plt.title('Elbow Method')\n",
        "plt.xlabel('Number of clusters')\n",
        "plt.ylabel('wcss')\n",
        "plt.show()"
      ],
      "execution_count": 20,
      "outputs": [
        {
          "output_type": "display_data",
          "data": {
            "image/png": "[encoded data removed]",
            "text/plain": [
              "<Figure size 1152x648 with 1 Axes>"
            ]
          },
          "metadata": {
            "tags": []
          }
        }
      ]
    },
    {
      "cell_type": "code",
      "metadata": {
        "id": "ysAJ82tKp1SX",
        "colab_type": "code",
        "colab": {
          "base_uri": "https://localhost:8080/",
          "height": 170
        },
        "outputId": "621e4102-1b10-454a-91f3-b1b7d3348c89"
      },
      "source": [
        "#Silhoutte\n",
        "from sklearn.metrics import silhouette_score\n",
        "from sklearn.cluster import KMeans\n",
        "\n",
        "for n_cluster in range(2, 11):\n",
        "    kmeans = KMeans(n_clusters=n_cluster).fit(X)\n",
        "    label = kmeans.labels_\n",
        "    sil_coeff = silhouette_score(X, label, metric='euclidean')\n",
        "    print(\"For n_clusters={}, The Silhouette Coefficient is {}\".format(n_cluster, sil_coeff))"
      ],
      "execution_count": 21,
      "outputs": [
        {
          "output_type": "stream",
          "text": [
            "For n_clusters=2, The Silhouette Coefficient is 0.6780706730873529\n",
            "For n_clusters=3, The Silhouette Coefficient is 0.6424467996374692\n",
            "For n_clusters=4, The Silhouette Coefficient is 0.6317826055899812\n",
            "For n_clusters=5, The Silhouette Coefficient is 0.5611699554209549\n",
            "For n_clusters=6, The Silhouette Coefficient is 0.5632720418609627\n",
            "For n_clusters=7, The Silhouette Coefficient is 0.5405832059896862\n",
            "For n_clusters=8, The Silhouette Coefficient is 0.5382775129448911\n",
            "For n_clusters=9, The Silhouette Coefficient is 0.5392325062603397\n",
            "For n_clusters=10, The Silhouette Coefficient is 0.5411007508596537\n"
          ],
          "name": "stdout"
        }
      ]
    },
    {
      "cell_type": "code",
      "metadata": {
        "id": "2eKJqds7p3Vq",
        "colab_type": "code",
        "colab": {}
      },
      "source": [
        "# Fitting Model with K-Means\n",
        "km2=KMeans(n_clusters=2,init='k-means++', max_iter=300, n_init=10, random_state=0)\n",
        "y_means = km2.fit_predict(X)"
      ],
      "execution_count": 0,
      "outputs": []
    },
    {
      "cell_type": "code",
      "metadata": {
        "id": "VUItTENwp4vd",
        "colab_type": "code",
        "colab": {
          "base_uri": "https://localhost:8080/",
          "height": 594
        },
        "outputId": "533809ec-9a55-4728-8ec8-5c191c8b413f"
      },
      "source": [
        "# Visualising the clusters for k=2\n",
        "plt.scatter(X[y_means==0,0],X[y_means==0,1],s=50, label='Cluster1')\n",
        "plt.scatter(X[y_means==1,0],X[y_means==1,1],s=50, label='Cluster2')\n",
        "\n",
        "\n",
        "plt.scatter(km2.cluster_centers_[:,0], km2.cluster_centers_[:,1],s=200,marker='s', alpha=0.7, label='Centroids')\n",
        "plt.title('City segments')\n",
        "plt.xlabel('Human Development Index')\n",
        "plt.ylabel('Revenue')\n",
        "plt.legend()\n",
        "plt.show()"
      ],
      "execution_count": 24,
      "outputs": [
        {
          "output_type": "display_data",
          "data": {
            "image/png": "[encoded data removed]",
            "text/plain": [
              "<Figure size 1152x648 with 1 Axes>"
            ]
          },
          "metadata": {
            "tags": []
          }
        }
      ]
    }
  ]
}